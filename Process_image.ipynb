{
 "cells": [
  {
   "cell_type": "code",
   "execution_count": 1,
   "metadata": {
    "collapsed": false
   },
   "outputs": [],
   "source": [
    "import cv2\n",
    "from glob import glob\n",
    "from PIL import Image"
   ]
  },
  {
   "cell_type": "code",
   "execution_count": 2,
   "metadata": {
    "collapsed": true
   },
   "outputs": [],
   "source": [
    "size = 32"
   ]
  },
  {
   "cell_type": "code",
   "execution_count": 3,
   "metadata": {
    "collapsed": true
   },
   "outputs": [],
   "source": [
    "list_of_img = glob('data/Train/*.jpg')"
   ]
  },
  {
   "cell_type": "code",
   "execution_count": 4,
   "metadata": {
    "collapsed": false
   },
   "outputs": [
    {
     "data": {
      "text/plain": [
       "19906"
      ]
     },
     "execution_count": 4,
     "metadata": {},
     "output_type": "execute_result"
    }
   ],
   "source": [
    "len(list_of_img)"
   ]
  },
  {
   "cell_type": "code",
   "execution_count": 5,
   "metadata": {
    "collapsed": true
   },
   "outputs": [],
   "source": [
    "first = list_of_img[0]"
   ]
  },
  {
   "cell_type": "code",
   "execution_count": 6,
   "metadata": {
    "collapsed": false
   },
   "outputs": [],
   "source": [
    "def area(filename):\n",
    "    h, w, _ = read(filename)\n",
    "    return h * w"
   ]
  },
  {
   "cell_type": "code",
   "execution_count": 7,
   "metadata": {
    "collapsed": true
   },
   "outputs": [],
   "source": [
    "def h_w(filename):\n",
    "    h, w, _ = read(filename)\n",
    "    return h >= size and w >= size"
   ]
  },
  {
   "cell_type": "code",
   "execution_count": 8,
   "metadata": {
    "collapsed": true
   },
   "outputs": [],
   "source": [
    "read = lambda x : cv2.imread(x).shape"
   ]
  },
  {
   "cell_type": "code",
   "execution_count": 9,
   "metadata": {
    "collapsed": false
   },
   "outputs": [
    {
     "data": {
      "text/plain": [
       "(52, 47, 3)"
      ]
     },
     "execution_count": 9,
     "metadata": {},
     "output_type": "execute_result"
    }
   ],
   "source": [
    "read(first)"
   ]
  },
  {
   "cell_type": "code",
   "execution_count": 10,
   "metadata": {
    "collapsed": false
   },
   "outputs": [],
   "source": [
    "def smallest_area(filenames):\n",
    "    temp = map(area, filenames)\n",
    "    return list(temp)"
   ]
  },
  {
   "cell_type": "code",
   "execution_count": 11,
   "metadata": {
    "collapsed": true
   },
   "outputs": [],
   "source": [
    "area_list = smallest_area(list_of_img)"
   ]
  },
  {
   "cell_type": "code",
   "execution_count": 12,
   "metadata": {
    "collapsed": false
   },
   "outputs": [
    {
     "name": "stdout",
     "output_type": "stream",
     "text": [
      "34\n",
      "15590\n"
     ]
    }
   ],
   "source": [
    "max_area = max(area_list)\n",
    "min_area = min(area_list)\n",
    "argmax = area_list.index(max_area)\n",
    "argmin = area_list.index(min_area)\n",
    "\n",
    "print(argmax)\n",
    "print(argmin)\n",
    "\n",
    "max_filename = list_of_img[argmax]\n",
    "min_filename = list_of_img[argmin]"
   ]
  },
  {
   "cell_type": "code",
   "execution_count": 22,
   "metadata": {
    "collapsed": false
   },
   "outputs": [
    {
     "name": "stdout",
     "output_type": "stream",
     "text": [
      "data/Train/12928.jpg\n",
      "data/Train/13785.jpg\n"
     ]
    }
   ],
   "source": [
    "read(max_filename)\n",
    "read(min_filename)\n",
    "\n",
    "print(min_filename)\n",
    "print(max_filename)"
   ]
  },
  {
   "cell_type": "code",
   "execution_count": 14,
   "metadata": {
    "collapsed": false
   },
   "outputs": [
    {
     "data": {
      "text/plain": [
       "18333"
      ]
     },
     "execution_count": 14,
     "metadata": {},
     "output_type": "execute_result"
    }
   ],
   "source": [
    "len(list(filter(lambda x : x > 32*32, area_list)))"
   ]
  },
  {
   "cell_type": "code",
   "execution_count": 15,
   "metadata": {
    "collapsed": false
   },
   "outputs": [],
   "source": [
    "h_w_list = list(filter(lambda x : h_w(x), list_of_img))"
   ]
  },
  {
   "cell_type": "code",
   "execution_count": 34,
   "metadata": {
    "collapsed": false
   },
   "outputs": [],
   "source": [
    "def reshape(filename):\n",
    "    img = Image.open(filename)\n",
    "#     img.thumbnail(size=(32, 32, 3))\n",
    "    img = img.resize((size, size), PIL.Image.ANTIALIAS)\n",
    "    filename = filename.split('/')[-1]\n",
    "    img.save('data/Pre_train/'+filename, \"JPEG\")"
   ]
  },
  {
   "cell_type": "code",
   "execution_count": 116,
   "metadata": {
    "collapsed": true
   },
   "outputs": [],
   "source": [
    "def reshape_cv(filename):\n",
    "    img = cv2.imread(filename, 1)\n",
    "    resized = cv2.resize(img, (size, size), interpolation = cv2.INTER_AREA)\n",
    "    cv2.imwrite('data/Pre_train/'+filename, resized)"
   ]
  },
  {
   "cell_type": "code",
   "execution_count": 117,
   "metadata": {
    "collapsed": false
   },
   "outputs": [],
   "source": [
    "for i in list_of_img:\n",
    "    reshape_cv(i)"
   ]
  },
  {
   "cell_type": "code",
   "execution_count": 18,
   "metadata": {
    "collapsed": true
   },
   "outputs": [],
   "source": [
    "list_of_test = glob('data/Test/*.jpg')"
   ]
  },
  {
   "cell_type": "code",
   "execution_count": 19,
   "metadata": {
    "collapsed": false
   },
   "outputs": [
    {
     "data": {
      "text/plain": [
       "6636"
      ]
     },
     "execution_count": 19,
     "metadata": {},
     "output_type": "execute_result"
    }
   ],
   "source": [
    "len(list_of_test)"
   ]
  },
  {
   "cell_type": "code",
   "execution_count": 20,
   "metadata": {
    "collapsed": true
   },
   "outputs": [],
   "source": [
    "h_w_test = list(filter(lambda x : h_w(x), list_of_test))"
   ]
  },
  {
   "cell_type": "code",
   "execution_count": 90,
   "metadata": {
    "collapsed": false
   },
   "outputs": [],
   "source": [
    "import PIL\n",
    "img = Image.open(max_filename)\n",
    "# img = img.resize((size, size), PIL.Image.BICUBIC)\n",
    "img.thumbnail(size=(32, 32, 3), resample=Image.ANTIALIAS)\n",
    "img.save('test_pil.jpg', \"JPEG\")"
   ]
  },
  {
   "cell_type": "code",
   "execution_count": 91,
   "metadata": {
    "collapsed": true
   },
   "outputs": [],
   "source": [
    "from scipy.misc import imresize, imread, imshow, imsave\n",
    "img = imread(max_filename)\n",
    "img = imresize(img, (32, 32))\n",
    "imsave('test_scipy.jpg', img)"
   ]
  },
  {
   "cell_type": "code",
   "execution_count": 115,
   "metadata": {
    "collapsed": false
   },
   "outputs": [],
   "source": [
    "img_cv2 = cv2.imread(max_filename, 1)\n",
    "img_sci = cv2.imread('test_scipy.jpg', 1)\n",
    "img_pil = cv2.imread('test_pil.jpg', 1)\n",
    "resized = cv2.resize(img_cv2, (32, 32),interpolation = cv2.INTER_AREA)\n",
    "cv2.imwrite('test_cv.jpg', resized)\n",
    "img_cv = cv2.imread('test_cv.jpg', 1)\n",
    "cv2.imshow('test_cv', img_cv)\n",
    "cv2.imshow('test_scipy', img_sci)\n",
    "cv2.imshow('test_pil', img_pil)\n",
    "cv2.waitKey(0)\n",
    "cv2.destroyAllWindows()"
   ]
  },
  {
   "cell_type": "code",
   "execution_count": null,
   "metadata": {
    "collapsed": true
   },
   "outputs": [],
   "source": []
  }
 ],
 "metadata": {
  "kernelspec": {
   "display_name": "Python 3",
   "language": "python",
   "name": "python3"
  },
  "language_info": {
   "codemirror_mode": {
    "name": "ipython",
    "version": 3
   },
   "file_extension": ".py",
   "mimetype": "text/x-python",
   "name": "python",
   "nbconvert_exporter": "python",
   "pygments_lexer": "ipython3",
   "version": "3.5.2"
  }
 },
 "nbformat": 4,
 "nbformat_minor": 2
}
